{
 "cells": [
  {
   "cell_type": "markdown",
   "metadata": {},
   "source": [
    "# SQL Connection to Python\n"
   ]
  },
  {
   "cell_type": "code",
   "execution_count": 1,
   "metadata": {},
   "outputs": [],
   "source": [
    "# Include Library for connection of Mysql to python\n",
    "import mysql.connector\n"
   ]
  },
  {
   "cell_type": "code",
   "execution_count": 4,
   "metadata": {},
   "outputs": [],
   "source": [
    "# Call Connect() to establish the connection between Mysql Database and Python\n",
    "mydb = mysql.connector.connect(host = \"localhost\", user = \"root\", passwd = \"Shreya13@\")"
   ]
  },
  {
   "cell_type": "code",
   "execution_count": 5,
   "metadata": {},
   "outputs": [
    {
     "name": "stdout",
     "output_type": "stream",
     "text": [
      "<mysql.connector.connection_cext.CMySQLConnection object at 0x00000124C8A75288>\n"
     ]
    }
   ],
   "source": [
    "# To Check Connction of Database\n",
    "print(mydb)"
   ]
  },
  {
   "cell_type": "code",
   "execution_count": 6,
   "metadata": {},
   "outputs": [],
   "source": [
    "# We have create our Database\n",
    "# To use cursor() method => SQL cursor is a database object\n",
    "mycursor = mydb.cursor()\n",
    "mycursor.execute(\"CREATE DATABASE Database_python;\")\n"
   ]
  },
  {
   "cell_type": "code",
   "execution_count": 10,
   "metadata": {},
   "outputs": [
    {
     "name": "stdout",
     "output_type": "stream",
     "text": [
      "('classicmodels',)\n",
      "('database_python',)\n",
      "('employee',)\n",
      "('information_schema',)\n",
      "('mysql',)\n",
      "('performance_schema',)\n",
      "('python_db',)\n",
      "('python_db_one',)\n",
      "('python_db_one_1',)\n",
      "('santosh',)\n",
      "('sys',)\n",
      "('world',)\n"
     ]
    }
   ],
   "source": [
    "mydb = mysql.connector.connect(host = \"localhost\", user = \"root\", passwd = \"Shreya13@\")\n",
    "mycursor = mydb.cursor()\n",
    "# To check Database has created or NOT\n",
    "mycursor.execute(\"SHOW DATABASES;\")\n",
    "# To Show the database which are available in Mysql server\n",
    "for i in mycursor:\n",
    "    print(i)"
   ]
  },
  {
   "cell_type": "code",
   "execution_count": 11,
   "metadata": {},
   "outputs": [],
   "source": [
    "# Now We have uses  Created Database \n",
    "mydb = mysql.connector.connect(host = \"localhost\", user = \"root\", passwd = \"Shreya13@\", database = 'database_python')\n",
    "mycursor = mydb.cursor()\n",
    "mycursor.execute(\"CREATE TABLE driver(name VARCHAR(50), Address VARCHAR(100),Mobile_no INT(11))\")\n"
   ]
  },
  {
   "cell_type": "code",
   "execution_count": 13,
   "metadata": {},
   "outputs": [
    {
     "name": "stdout",
     "output_type": "stream",
     "text": [
      "('driver',)\n"
     ]
    }
   ],
   "source": [
    "# To Check,  if a table exist by listing all tables in your database\n",
    "mydb = mysql.connector.connect(host = \"localhost\", user = \"root\", passwd = \"Shreya13@\", database = 'database_python')\n",
    "mycursor = mydb.cursor()\n",
    "mycursor.execute(\"SHOW TABLES \")\n",
    "for x in mycursor:\n",
    "    print(x)"
   ]
  },
  {
   "cell_type": "code",
   "execution_count": 16,
   "metadata": {},
   "outputs": [],
   "source": [
    "# Create Another Table in Same database\n",
    "mydb = mysql.connector.connect(host = \"localhost\", user = \"root\", passwd = \"Shreya13@\", database = 'database_python')\n",
    "mycursor = mydb.cursor()\n",
    "mycursor.execute(\"CREATE TABLE Vendor(Name VARCHAR(50), Address VARCHAR(100),Mobile_no INT(11),Location VarCHAR(50),Renmark VARCHAR (255))\")"
   ]
  },
  {
   "cell_type": "code",
   "execution_count": 17,
   "metadata": {},
   "outputs": [
    {
     "name": "stdout",
     "output_type": "stream",
     "text": [
      "('driver',)\n",
      "('vendor',)\n"
     ]
    }
   ],
   "source": [
    "# To listing all tables in your database\n",
    "mydb = mysql.connector.connect(host = \"localhost\", user = \"root\", passwd = \"Shreya13@\", database = 'database_python')\n",
    "mycursor = mydb.cursor()\n",
    "mycursor.execute(\"SHOW TABLES \")\n",
    "for x in mycursor:\n",
    "    print(x)"
   ]
  },
  {
   "cell_type": "code",
   "execution_count": 18,
   "metadata": {},
   "outputs": [],
   "source": [
    "# Create one more  Table in Same database \n",
    "mydb = mysql.connector.connect(host = \"localhost\", user = \"root\", passwd = \"Shreya13@\", database = 'database_python')\n",
    "mycursor = mydb.cursor()\n",
    "mycursor.execute(\"CREATE TABLE Client(Client_id INT AUTO_INCREMENT PRIMARY KEY,Name VARCHAR(50), Address VARCHAR(100),Mobile_no INT(11),Location VarCHAR(50),Area VARCHAR (255))\")"
   ]
  },
  {
   "cell_type": "code",
   "execution_count": 19,
   "metadata": {},
   "outputs": [
    {
     "name": "stdout",
     "output_type": "stream",
     "text": [
      "('client',)\n",
      "('driver',)\n",
      "('vendor',)\n"
     ]
    }
   ],
   "source": [
    "# To listing all tables in your database\n",
    "mydb = mysql.connector.connect(host = \"localhost\", user = \"root\", passwd = \"Shreya13@\", database = 'database_python')\n",
    "mycursor = mydb.cursor()\n",
    "mycursor.execute(\"SHOW TABLES \")\n",
    "for x in mycursor:\n",
    "    print(x)"
   ]
  },
  {
   "cell_type": "code",
   "execution_count": 20,
   "metadata": {},
   "outputs": [],
   "source": [
    "# Modified The Driver Table\n",
    "#  Use Alter Command to modified exist table\n",
    "mydb = mysql.connector.connect(host = \"localhost\", user = \"root\", passwd = \"Shreya13@\", database = 'database_python')\n",
    "mycursor = mydb.cursor()\n",
    "# Modification on Driver Table to add primer key\n",
    "mycursor.execute(\"ALTER TABLE driver ADD COLUMN Driver_id INT AUTO_INCREMENT PRIMARY KEY\")"
   ]
  },
  {
   "cell_type": "code",
   "execution_count": 28,
   "metadata": {},
   "outputs": [],
   "source": [
    "# Modified The Driver Table\n",
    "#  Use Alter Command to modified exist table\n",
    "mydb = mysql.connector.connect(host = \"localhost\", user = \"root\", passwd = \"Shreya13@\", database = 'database_python')\n",
    "mycursor = mydb.cursor()\n",
    "# Modification on Driver Table to add primer key\n",
    "mycursor.execute(\"ALTER TABLE driver DROP COLUMN Driver_id \")"
   ]
  },
  {
   "cell_type": "markdown",
   "metadata": {},
   "source": [
    "# Insert Data into Table"
   ]
  },
  {
   "cell_type": "code",
   "execution_count": 31,
   "metadata": {},
   "outputs": [
    {
     "name": "stdout",
     "output_type": "stream",
     "text": [
      "1 record inserted.\n"
     ]
    }
   ],
   "source": [
    "# Insert Data into Driver Table\n",
    "mydb = mysql.connector.connect(host = \"localhost\", user = \"root\", passwd = \"Shreya13@\", database = 'database_python')\n",
    "mycursor = mydb.cursor()\n",
    "\n",
    "# insert Single Record in Driver  Table\n",
    "sql = \"INSERT INTO driver (name, Address,Mobile_no) VALUES (%s, %s,%s)\"\n",
    "val = (\"Rajn\", \"Toll Plaza 27\",'78459857')\n",
    "mycursor.execute(sql, val)\n",
    "\n",
    "mydb.commit()\n",
    "\n",
    "print(mycursor.rowcount, \"record inserted.\")\n"
   ]
  },
  {
   "cell_type": "code",
   "execution_count": 33,
   "metadata": {},
   "outputs": [
    {
     "name": "stdout",
     "output_type": "stream",
     "text": [
      "13 record inserted.\n"
     ]
    }
   ],
   "source": [
    "# Insert Multiple Records in Driver Table\n",
    "mydb = mysql.connector.connect(host = \"localhost\", user = \"root\", passwd = \"Shreya13@\", database = 'database_python')\n",
    "mycursor = mydb.cursor()\n",
    "sql = \"INSERT INTO driver (name, Address,Mobile_no) VALUES (%s, %s,%s)\"\n",
    "val = [\n",
    "  ('Peter', 'Lowstreet 4','8564784'),\n",
    "  ('Amy', 'Apple st 652','7845121'),\n",
    "  ('Hannah', 'Mountain 21','1245987'),\n",
    "  ('Michael', 'Valley 345','1245987'),\n",
    "  ('Sandy', 'Ocean blvd 2','315478'),\n",
    "  ('Betty', 'Green Grass 1','569847'),\n",
    "  ('Richard', 'Sky st 331','213547'),\n",
    "  ('Susan', 'One way 98','1245874'),\n",
    "  ('Vicky', 'Yellow Garden 2','1245987'),\n",
    "  ('Ben', 'Park Lane 38','985472'),\n",
    "  ('William', 'Central st 954','659478'),\n",
    "  ('Chuck', 'Main Road 989','1245987'),\n",
    "  ('Viola', 'Sideway 1633','1847121')\n",
    "]\n",
    "\n",
    "mycursor.executemany(sql, val)\n",
    "\n",
    "mydb.commit()\n",
    "\n",
    "print(mycursor.rowcount, \"record inserted.\")"
   ]
  },
  {
   "cell_type": "code",
   "execution_count": 35,
   "metadata": {},
   "outputs": [
    {
     "name": "stdout",
     "output_type": "stream",
     "text": [
      "('John', 'Highway 21', 854679521)\n",
      "('John', 'Highway 21', 854679521)\n",
      "('John', 'Highway 21', 854679521)\n",
      "('Rajn', 'Toll Plaza 27', 78459857)\n",
      "('Peter', 'Lowstreet 4', 8564784)\n",
      "('Amy', 'Apple st 652', 7845121)\n",
      "('Hannah', 'Mountain 21', 1245987)\n",
      "('Michael', 'Valley 345', 1245987)\n",
      "('Sandy', 'Ocean blvd 2', 315478)\n",
      "('Betty', 'Green Grass 1', 569847)\n",
      "('Richard', 'Sky st 331', 213547)\n",
      "('Susan', 'One way 98', 1245874)\n",
      "('Vicky', 'Yellow Garden 2', 1245987)\n",
      "('Ben', 'Park Lane 38', 985472)\n",
      "('William', 'Central st 954', 659478)\n",
      "('Chuck', 'Main Road 989', 1245987)\n",
      "('Viola', 'Sideway 1633', 1847121)\n",
      "17 record Available.\n"
     ]
    }
   ],
   "source": [
    "# To Display the data from Driver Table\n",
    "mydb = mysql.connector.connect(host = \"localhost\", user = \"root\", passwd = \"Shreya13@\", database = 'database_python')\n",
    "mycursor = mydb.cursor()\n",
    "mycursor.execute(\"SELECT * FROM driver \")\n",
    "for x in mycursor:\n",
    "    print(x)\n",
    "print(mycursor.rowcount, \"record Available.\")"
   ]
  },
  {
   "cell_type": "code",
   "execution_count": null,
   "metadata": {},
   "outputs": [],
   "source": []
  }
 ],
 "metadata": {
  "kernelspec": {
   "display_name": "Python 3",
   "language": "python",
   "name": "python3"
  },
  "language_info": {
   "codemirror_mode": {
    "name": "ipython",
    "version": 3
   },
   "file_extension": ".py",
   "mimetype": "text/x-python",
   "name": "python",
   "nbconvert_exporter": "python",
   "pygments_lexer": "ipython3",
   "version": "3.7.4"
  }
 },
 "nbformat": 4,
 "nbformat_minor": 2
}
