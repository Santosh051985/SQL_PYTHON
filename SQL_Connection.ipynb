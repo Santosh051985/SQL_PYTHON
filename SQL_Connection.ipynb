{
 "cells": [
  {
   "cell_type": "markdown",
   "metadata": {},
   "source": [
    "# Connection of SQL database in Python"
   ]
  },
  {
   "cell_type": "code",
   "execution_count": 6,
   "metadata": {},
   "outputs": [],
   "source": [
    "import mysql.connector\n",
    "\n",
    "mydb = mysql.connector.connect(\n",
    "  host=\"localhost\",\n",
    "  user=\"root\",\n",
    "  passwd=\"Shreya13@\"\n",
    ") "
   ]
  },
  {
   "cell_type": "code",
   "execution_count": 2,
   "metadata": {},
   "outputs": [
    {
     "name": "stdout",
     "output_type": "stream",
     "text": [
      "<mysql.connector.connection_cext.CMySQLConnection object at 0x00000183BAC39348>\n"
     ]
    }
   ],
   "source": [
    "print(mydb)"
   ]
  },
  {
   "cell_type": "code",
   "execution_count": 7,
   "metadata": {},
   "outputs": [
    {
     "name": "stdout",
     "output_type": "stream",
     "text": [
      "('classicmodels',)\n",
      "('employee',)\n",
      "('information_schema',)\n",
      "('mysql',)\n",
      "('performance_schema',)\n",
      "('python_db',)\n",
      "('python_db_one',)\n",
      "('santosh',)\n",
      "('sys',)\n",
      "('world',)\n"
     ]
    }
   ],
   "source": [
    "# Create New Datadases\n",
    "# Check whether databases are available or NOT\n",
    "import mysql.connector\n",
    "mydb=mysql.connector.connect(host =\"localhost\",user =\"root\", passwd =\"Shreya13@\")\n",
    "\n",
    "mycursor = mydb.cursor()\n",
    "mycursor.execute(\" SHOW DATABASES\")\n",
    "for i in mycursor:\n",
    "    print(i)\n"
   ]
  },
  {
   "cell_type": "code",
   "execution_count": 8,
   "metadata": {},
   "outputs": [],
   "source": [
    "# Create New Databases\n",
    "mycursor.execute(\"CREATE DATABASE Python_DB_one_1\")"
   ]
  },
  {
   "cell_type": "code",
   "execution_count": 9,
   "metadata": {},
   "outputs": [
    {
     "name": "stdout",
     "output_type": "stream",
     "text": [
      "('classicmodels',)\n",
      "('employee',)\n",
      "('information_schema',)\n",
      "('mysql',)\n",
      "('performance_schema',)\n",
      "('python_db',)\n",
      "('python_db_one',)\n",
      "('python_db_one_1',)\n",
      "('santosh',)\n",
      "('sys',)\n",
      "('world',)\n"
     ]
    }
   ],
   "source": [
    "mycursor.execute(\" SHOW DATABASES\")\n",
    "for i in mycursor:\n",
    "    print(i)\n"
   ]
  },
  {
   "cell_type": "code",
   "execution_count": 14,
   "metadata": {},
   "outputs": [],
   "source": [
    "# Create Table in Data base\n",
    "\n",
    "mydb=mysql.connector.connect(host =\"localhost\",user =\"root\", passwd =\"Shreya13@\",database=\"python_db_one_1\")\n",
    "mycursor = mydb.cursor()"
   ]
  },
  {
   "cell_type": "code",
   "execution_count": 15,
   "metadata": {},
   "outputs": [],
   "source": [
    "mycursor.execute(\"CREATE TABLE Employee_t (name VARCHAR(255), address VARCHAR(255), mobile_no INT(10),Emp_ID INT(5))\")"
   ]
  },
  {
   "cell_type": "code",
   "execution_count": 17,
   "metadata": {},
   "outputs": [
    {
     "name": "stdout",
     "output_type": "stream",
     "text": [
      "1 record inserted.\n"
     ]
    }
   ],
   "source": [
    "mydb=mysql.connector.connect(host =\"localhost\",user =\"root\", passwd =\"Shreya13@\",database=\"python_db_one_1\")\n",
    "mycursor = mydb.cursor()\n",
    "\n",
    "sql = \"INSERT INTO Employee_t (name, address, mobile_no,Emp_ID) VALUES (%s, %s, %s,%s)\"\n",
    "val = (\"Amol\", \"Yavatmal 21\",'875948759','101')\n",
    "mycursor.execute(sql, val)\n",
    "\n",
    "mydb.commit()\n",
    "\n",
    "print(mycursor.rowcount, \"record inserted.\")"
   ]
  },
  {
   "cell_type": "code",
   "execution_count": 18,
   "metadata": {},
   "outputs": [
    {
     "name": "stdout",
     "output_type": "stream",
     "text": [
      "('Amol', 'Yavatmal 21', 875948759, 101)\n"
     ]
    }
   ],
   "source": [
    "mycursor.execute(\"SELECT * FROM Employee_t\")\n",
    "\n",
    "myresult = mycursor.fetchall()\n",
    "\n",
    "for x in myresult:\n",
    "  print(x)"
   ]
  },
  {
   "cell_type": "code",
   "execution_count": null,
   "metadata": {},
   "outputs": [],
   "source": [
    "# Insert Many Rows at a time in  an Employee table\n",
    "mydb = mysql.connector.connect(host =\"localhost\",user =\"root\", passwd =\"Shreya13@\",database=\"python_db_one\")\n",
    "mycursor = mydb.cursor()\n",
    "sql = \"INSERT INTO Employee (name, address, mobile_no) VALUES (%s, %s, %s)\"\n",
    "val = [\n",
    "  ('Peter', 'Lowstreet 4','85478521'),\n",
    "  ('Amy', 'Apple st 652','78945125'),\n",
    "  ('Hannah', 'Mountain 21','512423'),\n",
    "  ('Michael', 'Valley 345','1254874'),\n",
    "  ('Sandy', 'Ocean blvd 2','4517854'),\n",
    "  ('Betty', 'Green Grass 1','5722626'),\n",
    "  ('Richard', 'Sky st 331','5757243'),\n",
    "  ('Susan', 'One way 98','26189788'),\n",
    "  ('Vicky', 'Yellow Garden 2','6718729'),\n",
    "  ('Ben', 'Park Lane 38','90191829'),\n",
    "  ('William', 'Central st 954','893416736'),\n",
    "  ('Chuck', 'Main Road 989','78710990'),\n",
    "  ('Viola', 'Sideway 1633','5648124')\n",
    "]\n",
    "mycursor.executemany(sql,val)\n",
    "mydb.commit()\n",
    "print(mycursor.rowcount,\"Record Inserted\")"
   ]
  },
  {
   "cell_type": "code",
   "execution_count": null,
   "metadata": {},
   "outputs": [],
   "source": [
    "mycursor.execute(\"SHOW TABLES\")\n",
    "\n",
    "for x in mycursor:\n",
    "  print(x) "
   ]
  },
  {
   "cell_type": "code",
   "execution_count": null,
   "metadata": {},
   "outputs": [],
   "source": [
    "mycursor.execute(\"SELECT * FROM employee\")\n",
    "\n",
    "myresult = mycursor.fetchall()\n",
    "\n",
    "for x in myresult:\n",
    "  print(x)"
   ]
  },
  {
   "cell_type": "code",
   "execution_count": null,
   "metadata": {},
   "outputs": [],
   "source": [
    "sql = \"INSERT INTO Employee (name, address, mobile_no) VALUES (%s, %s, %s)\"\n",
    "val = (\"Rakesh\", \"Nashik 06\",'12458756')\n",
    "mycursor.execute(sql, val)\n",
    "\n",
    "mydb.commit()\n",
    "\n",
    "print(mycursor.rowcount, \"record inserted.\")"
   ]
  },
  {
   "cell_type": "code",
   "execution_count": null,
   "metadata": {},
   "outputs": [],
   "source": [
    "mycursor.execute(\"SELECT * FROM employee\")\n",
    "\n",
    "myresult = mycursor.fetchall()\n",
    "\n",
    "for x in myresult:\n",
    "  print(x)"
   ]
  },
  {
   "cell_type": "code",
   "execution_count": null,
   "metadata": {},
   "outputs": [],
   "source": [
    "sql = \"DELETE FROM employee WHERE mobile_no = '875948759'\"\n",
    "\n",
    "mycursor.execute(sql)\n",
    "\n",
    "mydb.commit()\n",
    "\n",
    "print(mycursor.rowcount, \"record(s) deleted\")"
   ]
  },
  {
   "cell_type": "code",
   "execution_count": null,
   "metadata": {},
   "outputs": [],
   "source": [
    "mycursor.execute(\"SELECT * FROM employee\")\n",
    "\n",
    "myresult = mycursor.fetchall()\n",
    "\n",
    "for x in myresult:\n",
    "  print(x)"
   ]
  },
  {
   "cell_type": "code",
   "execution_count": null,
   "metadata": {},
   "outputs": [],
   "source": [
    "sql = \"SELECT * FROM employee ORDER BY name\"\n",
    "\n",
    "mycursor.execute(sql)\n",
    "\n",
    "myresult = mycursor.fetchall()\n",
    "\n",
    "for x in myresult:\n",
    "  print(x)"
   ]
  },
  {
   "cell_type": "code",
   "execution_count": null,
   "metadata": {},
   "outputs": [],
   "source": [
    "sql = \"SELECT * FROM employee ORDER BY mobile_no \"\n",
    "\n",
    "mycursor.execute(sql)\n",
    "\n",
    "myresult = mycursor.fetchall()\n",
    "\n",
    "for x in myresult:\n",
    "  print(x)"
   ]
  },
  {
   "cell_type": "code",
   "execution_count": null,
   "metadata": {},
   "outputs": [],
   "source": [
    "import mysql.connector as sql_c\n",
    "mydb= sqlc.connect(host=\"localhost\",user=\"root\",passwd=\"Shreya13@\", database=\"python_db_one\")\n",
    "mycursor = mydb.cursor()\n",
    "\n",
    "mycursor.execute(\"SELECT * FROM employee LIMIT 2\")\n",
    "\n",
    "myresult = mycursor.fetchall()\n",
    "\n",
    "for x in myresult:\n",
    "  print(x) "
   ]
  },
  {
   "cell_type": "code",
   "execution_count": null,
   "metadata": {},
   "outputs": [],
   "source": [
    "\n",
    "import mysql.connector as sql_c\n",
    "mydb= sqlc.connect(host=\"localhost\",user=\"root\",passwd=\"Shreya13@\", database=\"python_db_one\")\n",
    "mycursor = mydb.cursor()\n",
    "\n",
    "mycursor.execute(\"ALTER TABLE employee ADD COLUMN id INT AUTO_INCREMENT PRIMARY KEY\") \n",
    "\n",
    "myresult = mycursor.fetchall()\n",
    "\n",
    "for x in myresult:\n",
    "  print(x) "
   ]
  },
  {
   "cell_type": "code",
   "execution_count": null,
   "metadata": {},
   "outputs": [],
   "source": []
  }
 ],
 "metadata": {
  "kernelspec": {
   "display_name": "Python 3",
   "language": "python",
   "name": "python3"
  },
  "language_info": {
   "codemirror_mode": {
    "name": "ipython",
    "version": 3
   },
   "file_extension": ".py",
   "mimetype": "text/x-python",
   "name": "python",
   "nbconvert_exporter": "python",
   "pygments_lexer": "ipython3",
   "version": "3.7.4"
  }
 },
 "nbformat": 4,
 "nbformat_minor": 2
}
